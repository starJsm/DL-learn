{
 "metadata": {
  "language_info": {
   "codemirror_mode": {
    "name": "ipython",
    "version": 3
   },
   "file_extension": ".py",
   "mimetype": "text/x-python",
   "name": "python",
   "nbconvert_exporter": "python",
   "pygments_lexer": "ipython3",
   "version": "3.7.7-final"
  },
  "orig_nbformat": 2,
  "kernelspec": {
   "name": "Python 3.7.7 64-bit ('tensorflow-gpu': conda)",
   "display_name": "Python 3.7.7 64-bit ('tensorflow-gpu': conda)",
   "metadata": {
    "interpreter": {
     "hash": "5683effc006db3b1c4689a623e2360bf9675d37d543b724f66752a231dd1539b"
    }
   }
  }
 },
 "nbformat": 4,
 "nbformat_minor": 2,
 "cells": [
  {
   "cell_type": "code",
   "execution_count": 1,
   "metadata": {},
   "outputs": [],
   "source": [
    "import tensorflow as tf\n",
    "from tensorflow import data as tfdata\n",
    "\n",
    "num_inputs = 2\n",
    "num_examples = 1000\n",
    "true_w = [2, -3.4]\n",
    "true_b = 4.2\n",
    "features = tf.random.normal((num_examples, num_inputs), stddev=1)\n",
    "labels = true_w[0] * features[:,0] + true_w[1] * features[:,1] + true_b\n",
    "labels += tf.random.normal(labels.shape,stddev=0.01)"
   ]
  },
  {
   "cell_type": "code",
   "execution_count": 2,
   "metadata": {},
   "outputs": [],
   "source": [
    "batch_size = 10\n",
    "# 将训练数据的特征和标签组合, 分成一组一组的\n",
    "dataset = tfdata.Dataset.from_tensor_slices((features, labels))\n",
    "# 随机打乱数据索引，每次选buffer_size个数据 https://blog.csdn.net/dpengwang/article/details/103799449\n",
    "dataset = dataset.shuffle(buffer_size=num_examples) \n",
    "# 分成若干组数据，每组数据大小为batch_size\n",
    "dataset = dataset.batch(batch_size)\n",
    "# 创建迭代器\n",
    "#data_iter = iter(dataset)"
   ]
  },
  {
   "cell_type": "code",
   "execution_count": 3,
   "metadata": {},
   "outputs": [],
   "source": [
    "from tensorflow import keras\n",
    "from tensorflow.keras import layers\n",
    "from tensorflow import initializers as init\n",
    "\n",
    "# Sequential实例可以看作是一个串联各个层的容器。\n",
    "model = keras.Sequential()\n",
    "# 输出维度为1 指定权重参数每个元素将在初始化时随机采样于均值为0、标准差为0.01的正态分布\n",
    "model.add(layers.Dense(1, kernel_initializer=init.RandomNormal(stddev=0.01)))\n"
   ]
  },
  {
   "cell_type": "code",
   "execution_count": 4,
   "metadata": {},
   "outputs": [
    {
     "output_type": "stream",
     "name": "stdout",
     "text": [
      "epoch 1, loss: 0.000231\n",
      "epoch 2, loss: 0.000094\n",
      "epoch 3, loss: 0.000094\n"
     ]
    }
   ],
   "source": [
    "# 定义损失函数\n",
    "from tensorflow import losses\n",
    "loss = losses.MeanSquaredError()\n",
    "\n",
    "# 定义优化算法\n",
    "from tensorflow.keras import optimizers\n",
    "trainer = optimizers.SGD(learning_rate=0.03)\n",
    "\n",
    "num_epochs = 3\n",
    "for epoch in range(1, num_epochs + 1):\n",
    "    for (batch, (X, y)) in enumerate(dataset):\n",
    "        with tf.GradientTape() as tape:\n",
    "            l = loss(model(X, training=True), y)\n",
    "\n",
    "        # 获得动态图中各变量梯度\n",
    "        grads = tape.gradient(l, model.trainable_variables)\n",
    "        # apply_gradients 跟新权重\n",
    "        # zip将对象中对应的元素打包成一个个元组 https://www.runoob.com/python3/python3-func-zip.html\n",
    "        trainer.apply_gradients(zip(grads, model.trainable_variables))\n",
    "\n",
    "    l = loss(model(features), labels)\n",
    "    print('epoch %d, loss: %f' % (epoch, l))\n"
   ]
  },
  {
   "cell_type": "code",
   "execution_count": 6,
   "metadata": {},
   "outputs": [
    {
     "output_type": "execute_result",
     "data": {
      "text/plain": [
       "([2, -3.4],\n",
       " array([[ 1.9999132],\n",
       "        [-3.3987668]], dtype=float32))"
      ]
     },
     "metadata": {},
     "execution_count": 6
    }
   ],
   "source": [
    "true_w, model.get_weights()[0]"
   ]
  },
  {
   "cell_type": "code",
   "execution_count": 7,
   "metadata": {},
   "outputs": [
    {
     "output_type": "execute_result",
     "data": {
      "text/plain": [
       "(4.2, array([4.1996055], dtype=float32))"
      ]
     },
     "metadata": {},
     "execution_count": 7
    }
   ],
   "source": [
    "true_b, model.get_weights()[1]"
   ]
  },
  {
   "cell_type": "code",
   "execution_count": 42,
   "metadata": {},
   "outputs": [],
   "source": [
    "'''使用 Keras'''\n",
    "\n",
    "# 生成数据\n",
    "import tensorflow as tf\n",
    "from tensorflow import data as tfdata\n",
    "num_inputs = 2\n",
    "num_examples = 1000\n",
    "true_w = [2, -3.4]\n",
    "true_b = 4.2\n",
    "features = tf.random.normal((num_examples, num_inputs), stddev=1)\n",
    "labels = true_w[0] * features[:,0] + true_w[1] * features[:,1] + true_b\n",
    "labels += tf.random.normal(labels.shape,stddev=0.01)"
   ]
  },
  {
   "cell_type": "code",
   "execution_count": 43,
   "metadata": {},
   "outputs": [],
   "source": [
    "# 定义模型和初始化参数\n",
    "from tensorflow import keras\n",
    "from tensorflow.keras import layers\n",
    "from tensorflow import initializers as init\n",
    "\n",
    "model = keras.Sequential()\n",
    "model.add(layers.Dense(1, kernel_initializer=init.RandomNormal(stddev=0.01), input_dim=2))"
   ]
  },
  {
   "cell_type": "code",
   "execution_count": 44,
   "metadata": {
    "tags": []
   },
   "outputs": [
    {
     "output_type": "stream",
     "name": "stdout",
     "text": [
      "Train on 1000 samples\n",
      "Epoch 1/100\n",
      "1000/1000 [==============================] - 1s 503us/sample - loss: 33.3036\n",
      "Epoch 2/100\n",
      "1000/1000 [==============================] - 0s 140us/sample - loss: 31.6566\n",
      "Epoch 3/100\n",
      "1000/1000 [==============================] - 0s 147us/sample - loss: 30.0375\n",
      "Epoch 4/100\n",
      "1000/1000 [==============================] - 0s 146us/sample - loss: 28.4376\n",
      "Epoch 5/100\n",
      "1000/1000 [==============================] - 0s 146us/sample - loss: 26.8950\n",
      "Epoch 6/100\n",
      "1000/1000 [==============================] - 0s 144us/sample - loss: 25.4125\n",
      "Epoch 7/100\n",
      "1000/1000 [==============================] - 0s 133us/sample - loss: 23.9316\n",
      "Epoch 8/100\n",
      "1000/1000 [==============================] - 0s 141us/sample - loss: 22.5311\n",
      "Epoch 9/100\n",
      "1000/1000 [==============================] - 0s 142us/sample - loss: 21.1742\n",
      "Epoch 10/100\n",
      "1000/1000 [==============================] - 0s 136us/sample - loss: 19.8939\n",
      "Epoch 11/100\n",
      "1000/1000 [==============================] - 0s 138us/sample - loss: 18.6013\n",
      "Epoch 12/100\n",
      "1000/1000 [==============================] - 0s 140us/sample - loss: 17.3949\n",
      "Epoch 13/100\n",
      "1000/1000 [==============================] - 0s 140us/sample - loss: 16.2211\n",
      "Epoch 14/100\n",
      "1000/1000 [==============================] - 0s 148us/sample - loss: 15.1023\n",
      "Epoch 15/100\n",
      "1000/1000 [==============================] - 0s 140us/sample - loss: 14.0114\n",
      "Epoch 16/100\n",
      "1000/1000 [==============================] - 0s 135us/sample - loss: 12.9669\n",
      "Epoch 17/100\n",
      "1000/1000 [==============================] - 0s 138us/sample - loss: 11.9577\n",
      "Epoch 18/100\n",
      "1000/1000 [==============================] - 0s 138us/sample - loss: 10.9734\n",
      "Epoch 19/100\n",
      "1000/1000 [==============================] - 0s 147us/sample - loss: 10.0631\n",
      "Epoch 20/100\n",
      "1000/1000 [==============================] - 0s 143us/sample - loss: 9.2020\n",
      "Epoch 21/100\n",
      "1000/1000 [==============================] - 0s 142us/sample - loss: 8.3678\n",
      "Epoch 22/100\n",
      "1000/1000 [==============================] - 0s 138us/sample - loss: 7.5912\n",
      "Epoch 23/100\n",
      "1000/1000 [==============================] - 0s 156us/sample - loss: 6.8415\n",
      "Epoch 24/100\n",
      "1000/1000 [==============================] - 0s 137us/sample - loss: 6.1363\n",
      "Epoch 25/100\n",
      "1000/1000 [==============================] - 0s 150us/sample - loss: 5.4755\n",
      "Epoch 26/100\n",
      "1000/1000 [==============================] - 0s 143us/sample - loss: 4.8552\n",
      "Epoch 27/100\n",
      "1000/1000 [==============================] - 0s 142us/sample - loss: 4.2763\n",
      "Epoch 28/100\n",
      "1000/1000 [==============================] - 0s 146us/sample - loss: 3.7506\n",
      "Epoch 29/100\n",
      "1000/1000 [==============================] - 0s 141us/sample - loss: 3.2396\n",
      "Epoch 30/100\n",
      "1000/1000 [==============================] - 0s 148us/sample - loss: 2.7721\n",
      "Epoch 31/100\n",
      "1000/1000 [==============================] - 0s 145us/sample - loss: 2.3453\n",
      "Epoch 32/100\n",
      "1000/1000 [==============================] - 0s 139us/sample - loss: 1.9691\n",
      "Epoch 33/100\n",
      "1000/1000 [==============================] - 0s 153us/sample - loss: 1.6268\n",
      "Epoch 34/100\n",
      "1000/1000 [==============================] - 0s 144us/sample - loss: 1.3083\n",
      "Epoch 35/100\n",
      "1000/1000 [==============================] - 0s 137us/sample - loss: 1.0303\n",
      "Epoch 36/100\n",
      "1000/1000 [==============================] - 0s 150us/sample - loss: 0.7965\n",
      "Epoch 37/100\n",
      "1000/1000 [==============================] - 0s 145us/sample - loss: 0.5908\n",
      "Epoch 38/100\n",
      "1000/1000 [==============================] - 0s 136us/sample - loss: 0.4169\n",
      "Epoch 39/100\n",
      "1000/1000 [==============================] - 0s 146us/sample - loss: 0.2764\n",
      "Epoch 40/100\n",
      "1000/1000 [==============================] - 0s 152us/sample - loss: 0.1663\n",
      "Epoch 41/100\n",
      "1000/1000 [==============================] - 0s 134us/sample - loss: 0.0898\n",
      "Epoch 42/100\n",
      "1000/1000 [==============================] - 0s 153us/sample - loss: 0.0391\n",
      "Epoch 43/100\n",
      "1000/1000 [==============================] - 0s 145us/sample - loss: 0.0108\n",
      "Epoch 44/100\n",
      "1000/1000 [==============================] - 0s 135us/sample - loss: 7.6521e-04\n",
      "Epoch 45/100\n",
      "1000/1000 [==============================] - 0s 140us/sample - loss: 1.0930e-04\n",
      "Epoch 46/100\n",
      "1000/1000 [==============================] - 0s 137us/sample - loss: 1.1215e-04\n",
      "Epoch 47/100\n",
      "1000/1000 [==============================] - 0s 177us/sample - loss: 1.1212e-04\n",
      "Epoch 48/100\n",
      "1000/1000 [==============================] - 0s 149us/sample - loss: 1.1279e-04\n",
      "Epoch 49/100\n",
      " 730/1000 [====================>.........] - ETA: 0s - loss: 1.1232e-04Restoring model weights from the end of the best epoch.\n",
      "1000/1000 [==============================] - 0s 141us/sample - loss: 1.1141e-04\n",
      "Epoch 00049: early stopping\n"
     ]
    },
    {
     "output_type": "execute_result",
     "data": {
      "text/plain": [
       "<tensorflow.python.keras.callbacks.History at 0x26dff002088>"
      ]
     },
     "metadata": {},
     "execution_count": 44
    }
   ],
   "source": [
    "# 训练模型\n",
    "from tensorflow.keras import losses\n",
    "from tensorflow.keras.optimizers import SGD\n",
    "from tensorflow.keras.callbacks import EarlyStopping\n",
    "\n",
    "# 定义优化器\n",
    "sgd = SGD(lr=0.03)\n",
    "model.compile(optimizers=sgd, loss=losses.mean_squared_error)\n",
    "\n",
    "# 当被监测的数量不再提升，则停止训练 https://keras.io/zh/callbacks/\n",
    "monitor = EarlyStopping(monitor='loss', min_delta=1e-3, \n",
    "    patience=5, verbose=1, mode='auto', restore_best_weights=True)\n",
    "\n",
    "model.fit(features, labels, epochs=100, batch_size=10, callbacks=[monitor])"
   ]
  },
  {
   "cell_type": "code",
   "execution_count": 45,
   "metadata": {},
   "outputs": [
    {
     "output_type": "execute_result",
     "data": {
      "text/plain": [
       "([2, -3.4],\n",
       " array([[ 1.9998162],\n",
       "        [-3.4016132]], dtype=float32))"
      ]
     },
     "metadata": {},
     "execution_count": 45
    }
   ],
   "source": [
    "true_w, model.get_weights()[0]"
   ]
  },
  {
   "cell_type": "code",
   "execution_count": null,
   "metadata": {},
   "outputs": [],
   "source": []
  }
 ]
}