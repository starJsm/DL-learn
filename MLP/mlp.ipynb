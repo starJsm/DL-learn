{
 "metadata": {
  "language_info": {
   "codemirror_mode": {
    "name": "ipython",
    "version": 3
   },
   "file_extension": ".py",
   "mimetype": "text/x-python",
   "name": "python",
   "nbconvert_exporter": "python",
   "pygments_lexer": "ipython3",
   "version": "3.7.7-final"
  },
  "orig_nbformat": 2,
  "kernelspec": {
   "name": "Python 3.7.7 64-bit ('tensorflow-gpu': conda)",
   "display_name": "Python 3.7.7 64-bit ('tensorflow-gpu': conda)",
   "metadata": {
    "interpreter": {
     "hash": "5683effc006db3b1c4689a623e2360bf9675d37d543b724f66752a231dd1539b"
    }
   }
  }
 },
 "nbformat": 4,
 "nbformat_minor": 2,
 "cells": [
  {
   "cell_type": "code",
   "execution_count": 1,
   "metadata": {},
   "outputs": [],
   "source": [
    "import tensorflow as tf\n",
    "import tensorflow.keras as keras\n",
    "from tensorflow.keras.models import Sequential\n",
    "from tensorflow.keras.layers import Dense, Activation\n",
    "from tensorflow.keras.callbacks import EarlyStopping\n",
    "\n",
    "# print(keras.__version__)\n",
    "# 显存自动分配\n",
    "gpus = tf.config.experimental.list_physical_devices(device_type='GPU')\n",
    "for gpu in gpus:\n",
    "    tf.config.experimental.set_memory_growth(gpu, True)"
   ]
  },
  {
   "cell_type": "code",
   "execution_count": 2,
   "metadata": {},
   "outputs": [
    {
     "output_type": "stream",
     "name": "stdout",
     "text": [
      "28\n"
     ]
    }
   ],
   "source": [
    "# 读取数据\n",
    "fashion_mnist = keras.datasets.fashion_mnist\n",
    "fashion_mnist = keras.datasets.fashion_mnist\n",
    "(x_train, y_train), (x_test, y_test) = fashion_mnist.load_data()\n",
    "x_train = x_train / 255.0\n",
    "x_test = x_test / 255.0\n",
    "print(x_train.shape[-1])"
   ]
  },
  {
   "cell_type": "code",
   "execution_count": 5,
   "metadata": {},
   "outputs": [],
   "source": [
    "# 搭建模型\n",
    "model = Sequential()\n",
    "model.add(keras.layers.Flatten(input_shape=(28, 28)))\n",
    "model.add(Dense(256, activation='relu'))\n",
    "model.add(Dense(128, activation='relu'))\n",
    "model.add(Dense(64, activation='relu'))\n",
    "model.add(Dense(32, activation='relu'))\n",
    "model.add(Dense(10, activation='softmax'))"
   ]
  },
  {
   "cell_type": "code",
   "execution_count": 4,
   "metadata": {},
   "outputs": [
    {
     "output_type": "stream",
     "name": "stdout",
     "text": [
      "Train on 60000 samples, validate on 10000 samples\n",
      "Epoch 1/1000\n",
      "60000/60000 - 2s - loss: 0.6970 - accuracy: 0.7431 - val_loss: 0.4586 - val_accuracy: 0.8293\n",
      "Epoch 2/1000\n",
      "60000/60000 - 1s - loss: 0.4382 - accuracy: 0.8387 - val_loss: 0.4222 - val_accuracy: 0.8441\n",
      "Epoch 3/1000\n",
      "60000/60000 - 1s - loss: 0.3823 - accuracy: 0.8593 - val_loss: 0.4756 - val_accuracy: 0.8341\n",
      "Epoch 4/1000\n",
      "60000/60000 - 1s - loss: 0.3521 - accuracy: 0.8691 - val_loss: 0.4188 - val_accuracy: 0.8492\n",
      "Epoch 5/1000\n",
      "60000/60000 - 1s - loss: 0.3312 - accuracy: 0.8759 - val_loss: 0.3823 - val_accuracy: 0.8622\n",
      "Epoch 6/1000\n",
      "60000/60000 - 1s - loss: 0.3118 - accuracy: 0.8830 - val_loss: 0.3692 - val_accuracy: 0.8682\n",
      "Epoch 7/1000\n",
      "60000/60000 - 1s - loss: 0.2966 - accuracy: 0.8884 - val_loss: 0.3412 - val_accuracy: 0.8760\n",
      "Epoch 8/1000\n",
      "60000/60000 - 1s - loss: 0.2820 - accuracy: 0.8941 - val_loss: 0.3673 - val_accuracy: 0.8662\n",
      "Epoch 9/1000\n",
      "60000/60000 - 1s - loss: 0.2737 - accuracy: 0.8971 - val_loss: 0.3538 - val_accuracy: 0.8760\n",
      "Epoch 10/1000\n",
      "60000/60000 - 1s - loss: 0.2651 - accuracy: 0.8993 - val_loss: 0.3383 - val_accuracy: 0.8769\n",
      "Epoch 11/1000\n",
      "60000/60000 - 1s - loss: 0.2538 - accuracy: 0.9035 - val_loss: 0.3504 - val_accuracy: 0.8685\n",
      "Epoch 12/1000\n",
      "60000/60000 - 1s - loss: 0.2462 - accuracy: 0.9063 - val_loss: 0.3473 - val_accuracy: 0.8749\n",
      "Epoch 13/1000\n",
      "60000/60000 - 1s - loss: 0.2404 - accuracy: 0.9087 - val_loss: 0.3476 - val_accuracy: 0.8770\n",
      "Epoch 14/1000\n",
      "60000/60000 - 1s - loss: 0.2358 - accuracy: 0.9106 - val_loss: 0.3310 - val_accuracy: 0.8824\n",
      "Epoch 15/1000\n",
      "60000/60000 - 1s - loss: 0.2252 - accuracy: 0.9143 - val_loss: 0.3642 - val_accuracy: 0.8731\n",
      "Epoch 16/1000\n",
      "60000/60000 - 1s - loss: 0.2212 - accuracy: 0.9159 - val_loss: 0.3448 - val_accuracy: 0.8851\n",
      "Epoch 17/1000\n",
      "60000/60000 - 1s - loss: 0.2138 - accuracy: 0.9187 - val_loss: 0.3208 - val_accuracy: 0.8889\n",
      "Epoch 18/1000\n",
      "60000/60000 - 1s - loss: 0.2066 - accuracy: 0.9210 - val_loss: 0.3517 - val_accuracy: 0.8815\n",
      "Epoch 19/1000\n",
      "60000/60000 - 1s - loss: 0.2245 - accuracy: 0.9167 - val_loss: 0.3647 - val_accuracy: 0.8710\n",
      "Epoch 20/1000\n",
      "60000/60000 - 1s - loss: 0.2145 - accuracy: 0.9185 - val_loss: 0.3234 - val_accuracy: 0.8849\n",
      "Epoch 21/1000\n",
      "60000/60000 - 1s - loss: 0.1994 - accuracy: 0.9239 - val_loss: 0.3498 - val_accuracy: 0.8784\n",
      "Epoch 22/1000\n",
      "60000/60000 - 1s - loss: 0.1886 - accuracy: 0.9270 - val_loss: 0.3293 - val_accuracy: 0.8867\n",
      "Epoch 23/1000\n",
      "60000/60000 - 1s - loss: 0.1482 - accuracy: 0.9449 - val_loss: 0.3087 - val_accuracy: 0.8985\n",
      "Epoch 24/1000\n",
      "60000/60000 - 1s - loss: 0.1382 - accuracy: 0.9484 - val_loss: 0.3104 - val_accuracy: 0.8982\n",
      "Epoch 25/1000\n",
      "60000/60000 - 1s - loss: 0.1350 - accuracy: 0.9496 - val_loss: 0.3107 - val_accuracy: 0.8979\n",
      "Epoch 26/1000\n",
      "60000/60000 - 1s - loss: 0.1328 - accuracy: 0.9504 - val_loss: 0.3127 - val_accuracy: 0.8961\n",
      "Epoch 27/1000\n",
      "60000/60000 - 1s - loss: 0.1309 - accuracy: 0.9509 - val_loss: 0.3135 - val_accuracy: 0.8991\n",
      "Epoch 28/1000\n",
      "60000/60000 - 1s - loss: 0.1293 - accuracy: 0.9514 - val_loss: 0.3141 - val_accuracy: 0.8994\n",
      "Epoch 29/1000\n",
      "Restoring model weights from the end of the best epoch.\n",
      "60000/60000 - 1s - loss: 0.1266 - accuracy: 0.9526 - val_loss: 0.3141 - val_accuracy: 0.8992\n",
      "Epoch 00029: early stopping\n"
     ]
    },
    {
     "output_type": "execute_result",
     "data": {
      "text/plain": [
       "<tensorflow.python.keras.callbacks.History at 0x146e17dc788>"
      ]
     },
     "metadata": {},
     "execution_count": 4
    }
   ],
   "source": [
    "model.compile(optimizer=tf.keras.optimizers.SGD(lr=0.2),\n",
    "             loss = 'sparse_categorical_crossentropy',\n",
    "             metrics=['accuracy'])\n",
    "\n",
    "# 训练过程中调整学习率\n",
    "reduce_lr = keras.callbacks.ReduceLROnPlateau(monitor='val_loss', patience=5, mode='auto', min_lr=0.0001,factor=0.05)\n",
    "\n",
    "# 当性能没有提升时，停止训练\n",
    "monitor = EarlyStopping(monitor='val_loss', min_delta=1e-4,     patience=6, verbose=1, mode='auto', restore_best_weights=True)\n",
    "\n",
    "model.fit(x_train, y_train, epochs=1000,\n",
    "              batch_size=128, verbose=2,\n",
    "              validation_data=(x_test, y_test),\n",
    "              callbacks=[reduce_lr, monitor])"
   ]
  },
  {
   "cell_type": "code",
   "execution_count": null,
   "metadata": {},
   "outputs": [],
   "source": []
  }
 ]
}