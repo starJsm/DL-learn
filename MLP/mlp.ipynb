{
 "metadata": {
  "language_info": {
   "codemirror_mode": {
    "name": "ipython",
    "version": 3
   },
   "file_extension": ".py",
   "mimetype": "text/x-python",
   "name": "python",
   "nbconvert_exporter": "python",
   "pygments_lexer": "ipython3",
   "version": "3.7.7-final"
  },
  "orig_nbformat": 2,
  "kernelspec": {
   "name": "Python 3.7.7 64-bit ('tensorflow-gpu': conda)",
   "display_name": "Python 3.7.7 64-bit ('tensorflow-gpu': conda)",
   "metadata": {
    "interpreter": {
     "hash": "5683effc006db3b1c4689a623e2360bf9675d37d543b724f66752a231dd1539b"
    }
   }
  }
 },
 "nbformat": 4,
 "nbformat_minor": 2,
 "cells": [
  {
   "cell_type": "code",
   "execution_count": 1,
   "metadata": {},
   "outputs": [],
   "source": [
    "import tensorflow as tf\n",
    "import tensorflow.keras as keras\n",
    "from tensorflow.keras.models import Sequential\n",
    "from tensorflow.keras.layers import Dense, Activation\n",
    "from tensorflow.keras.callbacks import EarlyStopping\n",
    "\n",
    "# print(keras.__version__)\n",
    "# 显存自动分配\n",
    "gpus = tf.config.experimental.list_physical_devices(device_type='GPU')\n",
    "for gpu in gpus:\n",
    "    tf.config.experimental.set_memory_growth(gpu, True)"
   ]
  },
  {
   "cell_type": "code",
   "execution_count": 2,
   "metadata": {},
   "outputs": [
    {
     "output_type": "stream",
     "name": "stdout",
     "text": [
      "28\n"
     ]
    }
   ],
   "source": [
    "# 读取数据\n",
    "fashion_mnist = keras.datasets.fashion_mnist\n",
    "fashion_mnist = keras.datasets.fashion_mnist\n",
    "(x_train, y_train), (x_test, y_test) = fashion_mnist.load_data()\n",
    "x_train = x_train / 255.0\n",
    "x_test = x_test / 255.0\n",
    "print(x_train.shape[-1])"
   ]
  },
  {
   "cell_type": "code",
   "execution_count": 3,
   "metadata": {},
   "outputs": [],
   "source": [
    "# 搭建模型\n",
    "model = Sequential()\n",
    "model.add(keras.layers.Flatten(input_shape=(28, 28)))\n",
    "model.add(Dense(256, activation='relu'))\n",
    "model.add(Dense(128, activation='relu'))\n",
    "model.add(Dense(64, activation='relu'))\n",
    "model.add(Dense(32, activation='relu'))\n",
    "model.add(Dense(10, activation='softmax'))"
   ]
  },
  {
   "cell_type": "code",
   "execution_count": 4,
   "metadata": {},
   "outputs": [
    {
     "output_type": "stream",
     "name": "stdout",
     "text": [
      "Train on 60000 samples, validate on 10000 samples\n",
      "Epoch 1/100\n",
      "60000/60000 - 2s - loss: 0.8508 - accuracy: 0.6943 - val_loss: 0.6293 - val_accuracy: 0.7528\n",
      "Epoch 2/100\n",
      "60000/60000 - 1s - loss: 0.5132 - accuracy: 0.8151 - val_loss: 0.5589 - val_accuracy: 0.7962\n",
      "Epoch 3/100\n",
      "60000/60000 - 1s - loss: 0.4414 - accuracy: 0.8418 - val_loss: 0.4738 - val_accuracy: 0.8313\n",
      "Epoch 4/100\n",
      "60000/60000 - 1s - loss: 0.4044 - accuracy: 0.8521 - val_loss: 0.4537 - val_accuracy: 0.8361\n",
      "Epoch 5/100\n",
      "60000/60000 - 1s - loss: 0.3771 - accuracy: 0.8626 - val_loss: 0.4116 - val_accuracy: 0.8523\n",
      "Epoch 6/100\n",
      "60000/60000 - 1s - loss: 0.3588 - accuracy: 0.8698 - val_loss: 0.5133 - val_accuracy: 0.8156\n",
      "Epoch 7/100\n",
      "60000/60000 - 1s - loss: 0.3435 - accuracy: 0.8733 - val_loss: 0.3994 - val_accuracy: 0.8522\n",
      "Epoch 8/100\n",
      "60000/60000 - 1s - loss: 0.3330 - accuracy: 0.8770 - val_loss: 0.3960 - val_accuracy: 0.8545\n",
      "Epoch 9/100\n",
      "60000/60000 - 1s - loss: 0.3214 - accuracy: 0.8816 - val_loss: 0.5021 - val_accuracy: 0.8149\n",
      "Epoch 10/100\n",
      "60000/60000 - 1s - loss: 0.3073 - accuracy: 0.8860 - val_loss: 0.4455 - val_accuracy: 0.8265\n",
      "Epoch 11/100\n",
      "60000/60000 - 1s - loss: 0.3004 - accuracy: 0.8903 - val_loss: 0.3712 - val_accuracy: 0.8661\n",
      "Epoch 12/100\n",
      "60000/60000 - 1s - loss: 0.2905 - accuracy: 0.8927 - val_loss: 0.3693 - val_accuracy: 0.8696\n",
      "Epoch 13/100\n",
      "60000/60000 - 1s - loss: 0.2804 - accuracy: 0.8962 - val_loss: 0.3670 - val_accuracy: 0.8703\n",
      "Epoch 14/100\n",
      "60000/60000 - 1s - loss: 0.2737 - accuracy: 0.8976 - val_loss: 0.5420 - val_accuracy: 0.7987\n",
      "Epoch 15/100\n",
      "60000/60000 - 1s - loss: 0.2692 - accuracy: 0.8995 - val_loss: 0.3742 - val_accuracy: 0.8621\n",
      "Epoch 16/100\n",
      "60000/60000 - 1s - loss: 0.2633 - accuracy: 0.9019 - val_loss: 0.4236 - val_accuracy: 0.8504\n",
      "Epoch 17/100\n",
      "60000/60000 - 1s - loss: 0.2559 - accuracy: 0.9047 - val_loss: 0.4010 - val_accuracy: 0.8544\n",
      "Epoch 18/100\n",
      "60000/60000 - 1s - loss: 0.2499 - accuracy: 0.9062 - val_loss: 0.3476 - val_accuracy: 0.8757\n",
      "Epoch 19/100\n",
      "60000/60000 - 1s - loss: 0.2446 - accuracy: 0.9082 - val_loss: 0.3450 - val_accuracy: 0.8772\n",
      "Epoch 20/100\n",
      "60000/60000 - 1s - loss: 0.2396 - accuracy: 0.9109 - val_loss: 0.4610 - val_accuracy: 0.8370\n",
      "Epoch 21/100\n",
      "60000/60000 - 1s - loss: 0.2349 - accuracy: 0.9117 - val_loss: 0.3454 - val_accuracy: 0.8749\n",
      "Epoch 22/100\n",
      "60000/60000 - 1s - loss: 0.2296 - accuracy: 0.9135 - val_loss: 0.3782 - val_accuracy: 0.8700\n",
      "Epoch 23/100\n",
      "60000/60000 - 1s - loss: 0.4751 - accuracy: 0.8647 - val_loss: 0.6267 - val_accuracy: 0.7890\n",
      "Epoch 24/100\n",
      "60000/60000 - 1s - loss: 0.3518 - accuracy: 0.8722 - val_loss: 0.4064 - val_accuracy: 0.8541\n",
      "Epoch 25/100\n",
      "60000/60000 - 1s - loss: 0.2568 - accuracy: 0.9056 - val_loss: 0.3349 - val_accuracy: 0.8806\n",
      "Epoch 26/100\n",
      "60000/60000 - 1s - loss: 0.2476 - accuracy: 0.9086 - val_loss: 0.3342 - val_accuracy: 0.8818\n",
      "Epoch 27/100\n",
      "60000/60000 - 1s - loss: 0.2444 - accuracy: 0.9103 - val_loss: 0.3321 - val_accuracy: 0.8814\n",
      "Epoch 28/100\n",
      "60000/60000 - 1s - loss: 0.2419 - accuracy: 0.9112 - val_loss: 0.3307 - val_accuracy: 0.8832\n",
      "Epoch 29/100\n",
      "60000/60000 - 1s - loss: 0.2397 - accuracy: 0.9117 - val_loss: 0.3307 - val_accuracy: 0.8823\n",
      "Epoch 30/100\n",
      "60000/60000 - 1s - loss: 0.2377 - accuracy: 0.9123 - val_loss: 0.3293 - val_accuracy: 0.8834\n",
      "Epoch 31/100\n",
      "60000/60000 - 1s - loss: 0.2357 - accuracy: 0.9135 - val_loss: 0.3285 - val_accuracy: 0.8822\n",
      "Epoch 32/100\n",
      "60000/60000 - 1s - loss: 0.2341 - accuracy: 0.9139 - val_loss: 0.3283 - val_accuracy: 0.8835\n",
      "Epoch 33/100\n",
      "60000/60000 - 1s - loss: 0.2324 - accuracy: 0.9150 - val_loss: 0.3265 - val_accuracy: 0.8828\n",
      "Epoch 34/100\n",
      "60000/60000 - 1s - loss: 0.2307 - accuracy: 0.9154 - val_loss: 0.3264 - val_accuracy: 0.8836\n",
      "Epoch 35/100\n",
      "60000/60000 - 1s - loss: 0.2293 - accuracy: 0.9152 - val_loss: 0.3257 - val_accuracy: 0.8835\n",
      "Epoch 36/100\n",
      "60000/60000 - 1s - loss: 0.2278 - accuracy: 0.9164 - val_loss: 0.3258 - val_accuracy: 0.8830\n",
      "Epoch 37/100\n",
      "60000/60000 - 1s - loss: 0.2263 - accuracy: 0.9167 - val_loss: 0.3262 - val_accuracy: 0.8835\n",
      "Epoch 38/100\n",
      "60000/60000 - 1s - loss: 0.2251 - accuracy: 0.9169 - val_loss: 0.3261 - val_accuracy: 0.8848\n",
      "Epoch 39/100\n",
      "60000/60000 - 1s - loss: 0.2237 - accuracy: 0.9176 - val_loss: 0.3242 - val_accuracy: 0.8846\n",
      "Epoch 40/100\n",
      "60000/60000 - 1s - loss: 0.2226 - accuracy: 0.9179 - val_loss: 0.3239 - val_accuracy: 0.8852\n",
      "Epoch 41/100\n",
      "60000/60000 - 1s - loss: 0.2213 - accuracy: 0.9184 - val_loss: 0.3231 - val_accuracy: 0.8859\n",
      "Epoch 42/100\n",
      "60000/60000 - 1s - loss: 0.2202 - accuracy: 0.9189 - val_loss: 0.3226 - val_accuracy: 0.8853\n",
      "Epoch 43/100\n",
      "60000/60000 - 1s - loss: 0.2189 - accuracy: 0.9197 - val_loss: 0.3227 - val_accuracy: 0.8859\n",
      "Epoch 44/100\n",
      "60000/60000 - 1s - loss: 0.2179 - accuracy: 0.9196 - val_loss: 0.3224 - val_accuracy: 0.8851\n",
      "Epoch 45/100\n",
      "60000/60000 - 1s - loss: 0.2169 - accuracy: 0.9205 - val_loss: 0.3221 - val_accuracy: 0.8855\n",
      "Epoch 46/100\n",
      "60000/60000 - 1s - loss: 0.2159 - accuracy: 0.9208 - val_loss: 0.3222 - val_accuracy: 0.8868\n",
      "Epoch 47/100\n",
      "Restoring model weights from the end of the best epoch.\n",
      "60000/60000 - 1s - loss: 0.2147 - accuracy: 0.9210 - val_loss: 0.3228 - val_accuracy: 0.8862\n",
      "Epoch 00047: early stopping\n"
     ]
    },
    {
     "output_type": "execute_result",
     "data": {
      "text/plain": [
       "<tensorflow.python.keras.callbacks.History at 0x218d0e01b88>"
      ]
     },
     "metadata": {},
     "execution_count": 4
    }
   ],
   "source": [
    "model.compile(optimizer=tf.keras.optimizers.SGD(lr=0.1),\n",
    "             loss = 'sparse_categorical_crossentropy',\n",
    "             metrics=['accuracy'])\n",
    "\n",
    "# 训练过程中调整学习率\n",
    "reduce_lr = keras.callbacks.ReduceLROnPlateau(monitor='val_loss', patience=5, mode='auto', min_lr=0.001,factor=0.05)\n",
    "\n",
    "# 当性能没有提升时，停止训练\n",
    "monitor = EarlyStopping(monitor='val_loss', min_delta=1e-3,     patience=6, verbose=1, mode='auto', restore_best_weights=True)\n",
    "\n",
    "model.fit(x_train, y_train, epochs=1000,\n",
    "              batch_size=256, verbose=2,\n",
    "              validation_data=(x_test, y_test),\n",
    "              callbacks=[reduce_lr, monitor])"
   ]
  },
  {
   "cell_type": "code",
   "execution_count": null,
   "metadata": {},
   "outputs": [],
   "source": []
  }
 ]
}