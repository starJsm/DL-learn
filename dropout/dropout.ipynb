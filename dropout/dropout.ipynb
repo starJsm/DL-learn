{
 "metadata": {
  "language_info": {
   "codemirror_mode": {
    "name": "ipython",
    "version": 3
   },
   "file_extension": ".py",
   "mimetype": "text/x-python",
   "name": "python",
   "nbconvert_exporter": "python",
   "pygments_lexer": "ipython3",
   "version": "3.7.7-final"
  },
  "orig_nbformat": 2,
  "kernelspec": {
   "name": "Python 3.7.7 64-bit ('tensorflow-gpu': conda)",
   "display_name": "Python 3.7.7 64-bit ('tensorflow-gpu': conda)",
   "metadata": {
    "interpreter": {
     "hash": "5683effc006db3b1c4689a623e2360bf9675d37d543b724f66752a231dd1539b"
    }
   }
  }
 },
 "nbformat": 4,
 "nbformat_minor": 2,
 "cells": [
  {
   "cell_type": "code",
   "execution_count": 1,
   "metadata": {},
   "outputs": [],
   "source": [
    "import tensorflow as tf\n",
    "import numpy as np\n",
    "from tensorflow import keras, nn, losses\n",
    "from tensorflow.keras.layers import Dropout, Flatten, Dense\n",
    "\n",
    "gpus = tf.config.experimental.list_physical_devices(device_type='GPU')\n",
    "for gpu in gpus:\n",
    "    tf.config.experimental.set_memory_growth(gpu, True)"
   ]
  },
  {
   "cell_type": "code",
   "execution_count": 2,
   "metadata": {},
   "outputs": [
    {
     "output_type": "stream",
     "name": "stdout",
     "text": [
      "(28, 28)\n"
     ]
    }
   ],
   "source": [
    "# 导入测试集和训练集\n",
    "from tensorflow.keras.datasets import fashion_mnist\n",
    "\n",
    "batch_size=256\n",
    "(x_train, y_train), (x_test, y_test) = fashion_mnist.load_data()\n",
    "x_train = tf.cast(x_train, tf.float32) / 255 #在进行矩阵相乘时需要float型，故强制类型转换为float型\n",
    "x_test = tf.cast(x_test,tf.float32) / 255 #在进行矩阵相乘时需要float型，故强制类型转换为float型\n",
    "# x_train = x_train / 255.0 #在进行矩阵相乘时需要float型，故强制类型转换为float型\n",
    "# x_test = y_train / 255.0\n",
    "print(x_train[0].shape)"
   ]
  },
  {
   "cell_type": "code",
   "execution_count": 3,
   "metadata": {},
   "outputs": [
    {
     "output_type": "stream",
     "name": "stdout",
     "text": [
      "Train on 60000 samples, validate on 10000 samples\n",
      "Epoch 1/100\n",
      "60000/60000 - 2s - loss: 0.5265 - accuracy: 0.8151 - val_loss: 0.4227 - val_accuracy: 0.8476\n",
      "Epoch 2/100\n",
      "60000/60000 - 1s - loss: 0.3693 - accuracy: 0.8652 - val_loss: 0.3783 - val_accuracy: 0.8652\n",
      "Epoch 3/100\n",
      "60000/60000 - 1s - loss: 0.3289 - accuracy: 0.8804 - val_loss: 0.3906 - val_accuracy: 0.8610\n",
      "Epoch 4/100\n",
      "60000/60000 - 1s - loss: 0.3045 - accuracy: 0.8880 - val_loss: 0.3536 - val_accuracy: 0.8732\n",
      "Epoch 5/100\n",
      "60000/60000 - 1s - loss: 0.2877 - accuracy: 0.8945 - val_loss: 0.3663 - val_accuracy: 0.8677\n",
      "Epoch 6/100\n",
      "60000/60000 - 1s - loss: 0.2733 - accuracy: 0.8978 - val_loss: 0.3527 - val_accuracy: 0.8778\n",
      "Epoch 7/100\n",
      "60000/60000 - 1s - loss: 0.2583 - accuracy: 0.9038 - val_loss: 0.3290 - val_accuracy: 0.8824\n",
      "Epoch 8/100\n",
      "60000/60000 - 1s - loss: 0.2480 - accuracy: 0.9065 - val_loss: 0.3284 - val_accuracy: 0.8847\n",
      "Epoch 9/100\n",
      "60000/60000 - 1s - loss: 0.2402 - accuracy: 0.9088 - val_loss: 0.3330 - val_accuracy: 0.8802\n",
      "Epoch 10/100\n",
      "60000/60000 - 1s - loss: 0.2303 - accuracy: 0.9123 - val_loss: 0.3519 - val_accuracy: 0.8783\n",
      "Epoch 11/100\n",
      "60000/60000 - 1s - loss: 0.2205 - accuracy: 0.9156 - val_loss: 0.3321 - val_accuracy: 0.8864\n",
      "Epoch 12/100\n",
      "60000/60000 - 1s - loss: 0.2135 - accuracy: 0.9187 - val_loss: 0.3457 - val_accuracy: 0.8851\n",
      "Epoch 13/100\n",
      "60000/60000 - 1s - loss: 0.2064 - accuracy: 0.9218 - val_loss: 0.3246 - val_accuracy: 0.8908\n",
      "Epoch 14/100\n",
      "60000/60000 - 1s - loss: 0.1972 - accuracy: 0.9244 - val_loss: 0.3398 - val_accuracy: 0.8840\n",
      "Epoch 15/100\n",
      "60000/60000 - 1s - loss: 0.1937 - accuracy: 0.9270 - val_loss: 0.3345 - val_accuracy: 0.8914\n",
      "Epoch 16/100\n",
      "60000/60000 - 1s - loss: 0.1875 - accuracy: 0.9289 - val_loss: 0.3483 - val_accuracy: 0.8851\n",
      "Epoch 17/100\n",
      "60000/60000 - 1s - loss: 0.1802 - accuracy: 0.9317 - val_loss: 0.3355 - val_accuracy: 0.8863\n",
      "Epoch 18/100\n",
      "Restoring model weights from the end of the best epoch.\n",
      "60000/60000 - 1s - loss: 0.1733 - accuracy: 0.9334 - val_loss: 0.3286 - val_accuracy: 0.8947\n",
      "Epoch 00018: early stopping\n"
     ]
    },
    {
     "output_type": "execute_result",
     "data": {
      "text/plain": [
       "<tensorflow.python.keras.callbacks.History at 0x1ded999e2c8>"
      ]
     },
     "metadata": {},
     "execution_count": 3
    }
   ],
   "source": [
    "# 定义模型和训练模型\n",
    "model = keras.Sequential()\n",
    "model.add(Flatten(input_shape=(x_train[0].shape)))\n",
    "model.add(Dense(256, activation='relu'))\n",
    "# model.add(Dropout(0.2))\n",
    "model.add(Dense(128, activation='relu'))\n",
    "# model.add(Dropout(0.5))\n",
    "model.add(Dense(64, activation='relu'))\n",
    "model.add(Dense(10, activation='softmax'))\n",
    "\n",
    "model.compile(\n",
    "    optimizer='adam', \n",
    "    loss='sparse_categorical_crossentropy', \n",
    "    metrics=['accuracy'])\n",
    "# 当性能没有提升时，停止训练\n",
    "monitor = keras.callbacks.EarlyStopping(\n",
    "    monitor='val_loss', min_delta=1e-4,\n",
    "    patience=5, verbose=1, mode='auto',\n",
    "    restore_best_weights=True)\n",
    "model.fit(x_train, y_train, epochs=100,\n",
    "              batch_size=128, verbose=2,\n",
    "              validation_data=(x_test, y_test),\n",
    "              validation_freq=1,\n",
    "              callbacks=[monitor])"
   ]
  },
  {
   "cell_type": "code",
   "execution_count": null,
   "metadata": {},
   "outputs": [],
   "source": []
  }
 ]
}