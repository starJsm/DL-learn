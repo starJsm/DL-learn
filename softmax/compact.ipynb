{
 "metadata": {
  "language_info": {
   "codemirror_mode": {
    "name": "ipython",
    "version": 3
   },
   "file_extension": ".py",
   "mimetype": "text/x-python",
   "name": "python",
   "nbconvert_exporter": "python",
   "pygments_lexer": "ipython3",
   "version": "3.7.7-final"
  },
  "orig_nbformat": 2,
  "kernelspec": {
   "name": "Python 3.7.7 64-bit ('tensorflow-gpu': conda)",
   "display_name": "Python 3.7.7 64-bit ('tensorflow-gpu': conda)",
   "metadata": {
    "interpreter": {
     "hash": "5683effc006db3b1c4689a623e2360bf9675d37d543b724f66752a231dd1539b"
    }
   }
  }
 },
 "nbformat": 4,
 "nbformat_minor": 2,
 "cells": [
  {
   "cell_type": "code",
   "execution_count": 1,
   "metadata": {},
   "outputs": [],
   "source": [
    "import tensorflow as tf\n",
    "from tensorflow import keras\n",
    "\n",
    "# 显存自动分配\n",
    "gpus = tf.config.experimental.list_physical_devices(device_type='GPU')\n",
    "for gpu in gpus:\n",
    "    tf.config.experimental.set_memory_growth(gpu, True)"
   ]
  },
  {
   "cell_type": "code",
   "execution_count": 2,
   "metadata": {},
   "outputs": [],
   "source": [
    "# 获取数据\n",
    "fashion_mnist = keras.datasets.fashion_mnist\n",
    "(x_train, y_train), (x_test, y_test) = fashion_mnist.load_data()\n",
    "\n",
    "# print(x_train[:1])\n",
    "# print(y_train[:1])\n",
    "# 归一化\n",
    "x_train = x_train / 255.0\n",
    "x_test = x_test / 255.0"
   ]
  },
  {
   "cell_type": "code",
   "execution_count": 3,
   "metadata": {},
   "outputs": [],
   "source": [
    "# Flatten 一个重新调整为 1D 的张量\n",
    "model = keras.Sequential([\n",
    "    keras.layers.Flatten(input_shape=(28, 28)),\n",
    "    keras.layers.Dense(10, activation='softmax')\n",
    "])\n",
    "# 损失函数\n",
    "# loss = 'sparse_categorical_crossentropy'\n",
    "# 优化函数\n",
    "# optimizer = tf.keras.optimizers.SGD(0.1)"
   ]
  },
  {
   "cell_type": "code",
   "execution_count": 4,
   "metadata": {},
   "outputs": [
    {
     "output_type": "stream",
     "name": "stdout",
     "text": [
      "Train on 60000 samples\n",
      "Epoch 1/5\n",
      "60000/60000 [==============================] - 1s 20us/sample - loss: 0.7963 - accuracy: 0.7393\n",
      "Epoch 2/5\n",
      "60000/60000 [==============================] - 1s 10us/sample - loss: 0.5750 - accuracy: 0.8088\n",
      "Epoch 3/5\n",
      "60000/60000 [==============================] - 1s 10us/sample - loss: 0.5286 - accuracy: 0.8238\n",
      "Epoch 4/5\n",
      "60000/60000 [==============================] - 1s 10us/sample - loss: 0.5022 - accuracy: 0.8313\n",
      "Epoch 5/5\n",
      "60000/60000 [==============================] - 1s 10us/sample - loss: 0.4867 - accuracy: 0.8357\n"
     ]
    },
    {
     "output_type": "execute_result",
     "data": {
      "text/plain": [
       "<tensorflow.python.keras.callbacks.History at 0x27a490cd648>"
      ]
     },
     "metadata": {},
     "execution_count": 4
    }
   ],
   "source": [
    "model.compile(optimizer=tf.keras.optimizers.SGD(0.1), loss = 'sparse_categorical_crossentropy', metrics=['accuracy'])\n",
    "# model.compile(loss='sparse_categorical_crossentropy',\n",
    "#               optimizer='sgd',\n",
    "#               metrics=['accuracy'])\n",
    "model.fit(x_train, y_train, epochs=5, batch_size=256)"
   ]
  },
  {
   "cell_type": "code",
   "execution_count": 5,
   "metadata": {
    "tags": []
   },
   "outputs": [
    {
     "output_type": "stream",
     "name": "stdout",
     "text": [
      "Test Acc: 0.8209999799728394\nTest_loss: 0.5179002340316773\n"
     ]
    }
   ],
   "source": [
    "# 评估\n",
    "test_loss, test_acc = model.evaluate(x_test, y_test, verbose=0)\n",
    "print('Test Acc: {}\\nTest_loss: {}'.format(test_acc, test_loss))"
   ]
  },
  {
   "cell_type": "code",
   "execution_count": null,
   "metadata": {},
   "outputs": [],
   "source": []
  }
 ]
}