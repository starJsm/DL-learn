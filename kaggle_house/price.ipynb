{
 "metadata": {
  "language_info": {
   "codemirror_mode": {
    "name": "ipython",
    "version": 3
   },
   "file_extension": ".py",
   "mimetype": "text/x-python",
   "name": "python",
   "nbconvert_exporter": "python",
   "pygments_lexer": "ipython3",
   "version": "3.7.7-final"
  },
  "orig_nbformat": 2,
  "kernelspec": {
   "name": "Python 3.7.7 64-bit ('tensorflow-gpu': conda)",
   "display_name": "Python 3.7.7 64-bit ('tensorflow-gpu': conda)",
   "metadata": {
    "interpreter": {
     "hash": "5683effc006db3b1c4689a623e2360bf9675d37d543b724f66752a231dd1539b"
    }
   }
  }
 },
 "nbformat": 4,
 "nbformat_minor": 2,
 "cells": [
  {
   "cell_type": "code",
   "execution_count": 1,
   "metadata": {},
   "outputs": [
    {
     "output_type": "stream",
     "name": "stdout",
     "text": [
      "2.0.0\n2.2.4-tf\n"
     ]
    }
   ],
   "source": [
    "# 导入所需要的包\n",
    "\n",
    "%matplotlib inline\n",
    "import tensorflow as tf\n",
    "from tensorflow import keras\n",
    "from tensorflow.keras.layers import Dense, Activation, Dropout\n",
    "import numpy as np\n",
    "import pandas as pd\n",
    "import matplotlib.pyplot as plt\n",
    "from tensorflow import initializers as init\n",
    "\n",
    "# 查看tf、keras版本\n",
    "print(tf.__version__)\n",
    "print(keras.__version__)"
   ]
  },
  {
   "cell_type": "code",
   "execution_count": 2,
   "metadata": {},
   "outputs": [
    {
     "output_type": "stream",
     "name": "stdout",
     "text": [
      "(1460, 81)\n(1459, 80)\n"
     ]
    }
   ],
   "source": [
    "# 使用pandas读取数据\n",
    "path = 'E:/3_code/4_python/ML/Dive-into-DL-TensorFlow2.0/data/kaggle_house/'\n",
    "train_data = pd.read_csv(path + 'train.csv')\n",
    "test_data = pd.read_csv(path + 'test.csv')\n",
    "\n",
    "print(train_data.shape)\n",
    "print(test_data.shape)"
   ]
  },
  {
   "cell_type": "code",
   "execution_count": 3,
   "metadata": {},
   "outputs": [],
   "source": [
    "# 将所有特征按列连接，为后面将非数值化特征变为数值化特征做准备\n",
    "all_features = pd.concat((train_data.iloc[:, 1:-1], test_data.iloc[:, 1:]))"
   ]
  },
  {
   "cell_type": "code",
   "execution_count": 4,
   "metadata": {},
   "outputs": [],
   "source": [
    "# 获取特征为数值的下标\n",
    "numeric_features = all_features.dtypes[all_features.dtypes != 'object'].index\n",
    "all_features[numeric_features] = all_features[numeric_features].apply(lambda x: (x - x.mean()) / (x.std()))\n",
    "all_features[numeric_features] = all_features[numeric_features].fillna(0)"
   ]
  },
  {
   "cell_type": "code",
   "execution_count": 5,
   "metadata": {},
   "outputs": [],
   "source": [
    "# 将非数值特征转化为数值特征, 将缺失值也作为合法的特征值\n",
    "all_features = pd.get_dummies(all_features, dummy_na=True)"
   ]
  },
  {
   "cell_type": "code",
   "execution_count": 6,
   "metadata": {},
   "outputs": [],
   "source": [
    "# 分割数据集 并且将pandas转为numpy\n",
    "n_train = train_data.shape[0]\n",
    "train_features = np.array(all_features[:n_train].values, dtype=np.float)\n",
    "test_features = np.array(all_features[n_train:].values, dtype=np.float)\n",
    "train_labels = np.array(train_data.SalePrice.values.reshape(-1, 1), dtype=np.float)"
   ]
  },
  {
   "cell_type": "code",
   "execution_count": 7,
   "metadata": {},
   "outputs": [],
   "source": [
    "def get_net():\n",
    "    net = keras.models.Sequential()\n",
    "    # net.add(Dense(256, activation='relu'))\n",
    "    # net.add(Dropout(0.2))\n",
    "    net.add(Dense(128, activation='relu'))\n",
    "    net.add(Dropout(0.3))\n",
    "    # net.add(Dense(64, activation='relu'))\n",
    "    net.add(Dropout(0.4))\n",
    "    # net.add(Dense(32, activation='relu'))\n",
    "    net.add(Dropout(0.5))\n",
    "    net.add(Dense(1, activation='relu'))\n",
    "    return net"
   ]
  },
  {
   "cell_type": "code",
   "execution_count": 8,
   "metadata": {},
   "outputs": [],
   "source": [
    "# k折交叉验证\n",
    "def get_k_fold_data(k, i, X, y):\n",
    "    assert k > 1\n",
    "    # // 整数除法 返回不大于结果的一个最大整数\n",
    "    fold_size = X.shape[0] // k\n",
    "    X_train, y_train = None, None\n",
    "    for j in range(k):\n",
    "        # slice切片函数 负责截取数据\n",
    "        idx = slice(j * fold_size, (j + 1) * fold_size)\n",
    "        X_part, y_part = X[idx, :], y[idx]\n",
    "        if j == i:\n",
    "            X_valid, y_valid = X_part, y_part\n",
    "        elif X_train is None:\n",
    "            X_train, y_train = X_part, y_part\n",
    "        else:\n",
    "            X_train = tf.concat([X_train, X_part], axis=0)\n",
    "            y_train = tf.concat([y_train, y_part], axis=0)\n",
    "    return X_train, y_train, X_valid, y_valid"
   ]
  },
  {
   "cell_type": "code",
   "execution_count": 9,
   "metadata": {},
   "outputs": [],
   "source": [
    "def k_fold(k, X_train, y_train, num_epochs, learning_rate, weight_decay, batch_size):\n",
    "    train_l_sum, valid_l_sum = 0, 0\n",
    "    for i in range(k):\n",
    "        data = get_k_fold_data(k, i, X_train, y_train)\n",
    "        net = get_net()\n",
    "        net.compile(\n",
    "            loss=tf.keras.losses.mean_squared_logarithmic_error, \n",
    "            optimizer=keras.optimizers.Adam(learning_rate)            )\n",
    "        # 当性能没有提升时，停止训练\n",
    "        monitor = keras.callbacks.EarlyStopping(\n",
    "            monitor='val_loss', min_delta=1e-3,\n",
    "            patience=5, verbose=1, mode='auto', \n",
    "            restore_best_weights=True)\n",
    "        history = net.fit(\n",
    "            data[0], data[1], \n",
    "            validation_data=(data[2], data[3]), \n",
    "            epochs=num_epochs, callbacks=[monitor],\n",
    "            batch_size=batch_size, validation_freq=1, verbose=2)\n",
    "        loss = history.history['loss']\n",
    "        val_loss = history.history['val_loss']\n",
    "        # print('fold %d, train rmse %f, valid rmse %f' % (i, loss[-1], val_loss[-1]))\n",
    "    return loss, val_loss"
   ]
  },
  {
   "cell_type": "code",
   "execution_count": 10,
   "metadata": {},
   "outputs": [],
   "source": [
    "def start_train(k, X_train, y_train, num_epochs, learning_rate, weight_decay, batch_size):\n",
    "    train_l_sum, valid_l_sum = 0, 0\n",
    "    data = get_k_fold_data(k, 0, X_train, y_train)\n",
    "    net = get_net()\n",
    "    net.compile(\n",
    "        loss=tf.keras.losses.mean_squared_logarithmic_error, \n",
    "        optimizer=keras.optimizers.Adam(learning_rate), metrics=['accuracy'])\n",
    "    # 当性能没有提升时，停止训练\n",
    "    monitor = keras.callbacks.EarlyStopping(\n",
    "        monitor='val_loss', min_delta=1e-3,\n",
    "        patience=5, verbose=1, mode='auto', \n",
    "        restore_best_weights=True)\n",
    "    history = net.fit(\n",
    "        data[0], data[1], \n",
    "        validation_data=(data[2], data[3]), \n",
    "        epochs=num_epochs, callbacks=[monitor],\n",
    "        batch_size=batch_size, validation_freq=1, verbose=2)\n",
    "    loss = history.history['loss']\n",
    "    val_loss = history.history['val_loss']\n",
    "    # print('fold %d, train rmse %f, valid rmse %f' % (i, loss[-1], val_loss[-1]))\n",
    "    return loss, val_loss, net"
   ]
  },
  {
   "cell_type": "code",
   "execution_count": 11,
   "metadata": {
    "tags": []
   },
   "outputs": [
    {
     "output_type": "stream",
     "name": "stdout",
     "text": [
      "Train on 1168 samples, validate on 292 samples\n",
      "Epoch 1/1000\n",
      "1168/1168 - 1s - loss: 15.3266 - accuracy: 0.0000e+00 - val_loss: 1.9958 - val_accuracy: 0.0000e+00\n",
      "Epoch 2/1000\n",
      "1168/1168 - 0s - loss: 1.3338 - accuracy: 0.0000e+00 - val_loss: 0.5304 - val_accuracy: 0.0000e+00\n",
      "Epoch 3/1000\n",
      "1168/1168 - 0s - loss: 0.5820 - accuracy: 0.0000e+00 - val_loss: 0.1462 - val_accuracy: 0.0000e+00\n",
      "Epoch 4/1000\n",
      "1168/1168 - 0s - loss: 0.3821 - accuracy: 0.0000e+00 - val_loss: 0.0609 - val_accuracy: 0.0000e+00\n",
      "Epoch 5/1000\n",
      "1168/1168 - 0s - loss: 0.2723 - accuracy: 0.0000e+00 - val_loss: 0.0426 - val_accuracy: 0.0000e+00\n",
      "Epoch 6/1000\n",
      "1168/1168 - 0s - loss: 0.2182 - accuracy: 0.0000e+00 - val_loss: 0.0331 - val_accuracy: 0.0000e+00\n",
      "Epoch 7/1000\n",
      "1168/1168 - 0s - loss: 0.1939 - accuracy: 0.0000e+00 - val_loss: 0.0257 - val_accuracy: 0.0000e+00\n",
      "Epoch 8/1000\n",
      "1168/1168 - 0s - loss: 0.1818 - accuracy: 0.0000e+00 - val_loss: 0.0241 - val_accuracy: 0.0000e+00\n",
      "Epoch 9/1000\n",
      "1168/1168 - 0s - loss: 0.1695 - accuracy: 0.0000e+00 - val_loss: 0.0236 - val_accuracy: 0.0000e+00\n",
      "Epoch 10/1000\n",
      "1168/1168 - 0s - loss: 0.1511 - accuracy: 0.0000e+00 - val_loss: 0.0219 - val_accuracy: 0.0000e+00\n",
      "Epoch 11/1000\n",
      "1168/1168 - 0s - loss: 0.1485 - accuracy: 0.0000e+00 - val_loss: 0.0219 - val_accuracy: 0.0000e+00\n",
      "Epoch 12/1000\n",
      "1168/1168 - 0s - loss: 0.1463 - accuracy: 0.0000e+00 - val_loss: 0.0211 - val_accuracy: 0.0000e+00\n",
      "Epoch 13/1000\n",
      "1168/1168 - 0s - loss: 0.1398 - accuracy: 0.0000e+00 - val_loss: 0.0208 - val_accuracy: 0.0000e+00\n",
      "Epoch 14/1000\n",
      "1168/1168 - 0s - loss: 0.1292 - accuracy: 0.0000e+00 - val_loss: 0.0201 - val_accuracy: 0.0000e+00\n",
      "Epoch 15/1000\n",
      "1168/1168 - 0s - loss: 0.1189 - accuracy: 0.0000e+00 - val_loss: 0.0193 - val_accuracy: 0.0000e+00\n",
      "Epoch 16/1000\n",
      "1168/1168 - 0s - loss: 0.1172 - accuracy: 0.0000e+00 - val_loss: 0.0192 - val_accuracy: 0.0000e+00\n",
      "Epoch 17/1000\n",
      "1168/1168 - 0s - loss: 0.1311 - accuracy: 0.0000e+00 - val_loss: 0.0185 - val_accuracy: 0.0000e+00\n",
      "Epoch 18/1000\n",
      "1168/1168 - 0s - loss: 0.1173 - accuracy: 0.0000e+00 - val_loss: 0.0177 - val_accuracy: 0.0000e+00\n",
      "Epoch 19/1000\n",
      "1168/1168 - 0s - loss: 0.1073 - accuracy: 0.0000e+00 - val_loss: 0.0176 - val_accuracy: 0.0000e+00\n",
      "Epoch 20/1000\n",
      "1168/1168 - 0s - loss: 0.1134 - accuracy: 0.0000e+00 - val_loss: 0.0175 - val_accuracy: 0.0000e+00\n",
      "Epoch 21/1000\n",
      "1168/1168 - 0s - loss: 0.1175 - accuracy: 0.0000e+00 - val_loss: 0.0178 - val_accuracy: 0.0000e+00\n",
      "Epoch 22/1000\n",
      "1168/1168 - 0s - loss: 0.1097 - accuracy: 0.0000e+00 - val_loss: 0.0179 - val_accuracy: 0.0000e+00\n",
      "Epoch 23/1000\n",
      "Restoring model weights from the end of the best epoch.\n",
      "1168/1168 - 0s - loss: 0.0956 - accuracy: 0.0000e+00 - val_loss: 0.0174 - val_accuracy: 0.0000e+00\n",
      "Epoch 00023: early stopping\n"
     ]
    }
   ],
   "source": [
    "k, num_epochs, lr, weight_decay, batch_size = 5, 1000, 0.5, 0, 64\n",
    "loss, val_loss, net= start_train(k, train_features, train_labels, num_epochs, lr,\n",
    "                          weight_decay, batch_size)\n",
    "\n",
    "# plt.subplot()函数用于直接指定划分方式和位置进行绘图。https://blog.csdn.net/missyougoon/article/details/90543210\n",
    "# plt.subplot(1, 2, 2)\n",
    "# plt.plot(loss, label='train')\n",
    "# plt.plot(val_loss, label='valid')\n",
    "# plt.legend(loc='uper right')\n",
    "# plt.title('Training and Validation Loss')\n",
    "# plt.show()"
   ]
  },
  {
   "cell_type": "code",
   "execution_count": 28,
   "metadata": {},
   "outputs": [
    {
     "output_type": "stream",
     "name": "stdout",
     "text": [
      "(1460, 81)\n(1459, 81)\n(1459, 2)\n"
     ]
    }
   ],
   "source": [
    "preds=np.array(net.predict(test_features))\n",
    "# print(test_data.shape)\n",
    "print(train_data.shape)\n",
    "# test_data['SalePrice'] = pd.Series(preds.reshape(1, -1)[0])\n",
    "test_data['SalePrice'] = preds\n",
    "print(test_data.shape)\n",
    "# print(pred[0])\n",
    "submission = pd.concat([test_data['Id'], test_data['SalePrice']], axis=1)\n",
    "print(submission.shape)\n",
    "submission.to_csv('submission.csv', index=False)"
   ]
  },
  {
   "cell_type": "code",
   "execution_count": 12,
   "metadata": {},
   "outputs": [],
   "source": [
    "# from sklearn.model_selection import train_test_split\n",
    "# x_train, x_test, y_train, y_test = train_test_split(    \n",
    "#     train_features, train_labels, test_size=0.2, random_state=42)"
   ]
  },
  {
   "cell_type": "code",
   "execution_count": 13,
   "metadata": {},
   "outputs": [],
   "source": [
    "# print(x_train.shape, x_test.shape)"
   ]
  },
  {
   "cell_type": "code",
   "execution_count": 14,
   "metadata": {},
   "outputs": [],
   "source": [
    "# model = keras.models.Sequential()\n",
    "# model.add(keras.layers.Dense(256, activation='relu'))\n",
    "# model.add(keras.layers.Dense(128, activation='relu'))\n",
    "# model.add(keras.layers.Dense(64, activation='relu'))\n",
    "# model.add(keras.layers.Dense(32, activation='relu'))\n",
    "# model.add(keras.layers.Dense(1, activation='relu'))\n",
    "\n",
    "# model.compile(loss=tf.keras.losses.mean_squared_logarithmic_error,             optimizer=keras.optimizers.Adam(5), metrics=['accuracy'])\n",
    "# # 当性能没有提升时，停止训练\n",
    "# monitor = keras.callbacks.EarlyStopping(\n",
    "#     monitor='val_loss', min_delta=1e-3,\n",
    "#     patience=5, verbose=1, mode='auto', \n",
    "#     restore_best_weights=True)"
   ]
  },
  {
   "cell_type": "code",
   "execution_count": 15,
   "metadata": {
    "tags": []
   },
   "outputs": [],
   "source": [
    "# model.fit(x_train,y_train,validation_data=(x_test,y_test),callbacks=[monitor],batch_size=256, verbose=2,epochs=10000)\n",
    "# model.fit(x_train,y_train,validation_data=(x_test,y_test),batch_size=256, verbose=2,epochs=10000)"
   ]
  },
  {
   "cell_type": "code",
   "execution_count": null,
   "metadata": {},
   "outputs": [],
   "source": []
  }
 ]
}